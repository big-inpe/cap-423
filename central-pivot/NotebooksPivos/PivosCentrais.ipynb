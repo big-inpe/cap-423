{
  "nbformat": 4,
  "nbformat_minor": 0,
  "metadata": {
    "colab": {
      "provenance": [],
      "authorship_tag": "ABX9TyPn3bQNNABfj/fBLJNYb2iA",
      "include_colab_link": true
    },
    "kernelspec": {
      "name": "python3",
      "display_name": "Python 3"
    },
    "language_info": {
      "name": "python"
    }
  },
  "cells": [
    {
      "cell_type": "markdown",
      "metadata": {
        "id": "view-in-github",
        "colab_type": "text"
      },
      "source": [
        "<a href=\"https://colab.research.google.com/github/agojunior/cap-423/blob/main/PivosCentrais.ipynb\" target=\"_parent\"><img src=\"https://colab.research.google.com/assets/colab-badge.svg\" alt=\"Open In Colab\"/></a>"
      ]
    },
    {
      "cell_type": "code",
      "source": [
        "!pip install geopandas rasterio shapely"
      ],
      "metadata": {
        "id": "rbfvrOlWwrnf"
      },
      "execution_count": null,
      "outputs": []
    },
    {
      "cell_type": "code",
      "execution_count": null,
      "metadata": {
        "id": "RCyAtmX3wc9i"
      },
      "outputs": [],
      "source": [
        "\n",
        "# Define file paths\n",
        "tif_file = \"/content/Sentinel2_fl_cm_24_09_28.tif\"\n",
        "shapefile_input = \"/content/ANA_PivosCentrais_2022_BR_env.shp\"\n",
        "shapefile_output = \"/content/ANA_PivosCentrais_2022_BR_env_cropped.shp\"\n",
        "# Corrected code using src.bounds directly\n",
        "import rasterio\n",
        "from shapely.geometry import box\n",
        "import geopandas as gpd\n",
        "\n",
        "# Get bounding box from raster\n",
        "with rasterio.open(tif_file) as src:\n",
        "    bbox = src.bounds\n",
        "    raster_crs = src.crs\n",
        "\n",
        "# Convert bounding box to a GeoDataFrame\n",
        "bbox_gdf = gpd.GeoDataFrame(\n",
        "    {\"geometry\": [box(*bbox)]},\n",
        "    crs=raster_crs.to_string()\n",
        ")\n",
        "\n",
        "# Read the input shapefile\n",
        "input_gdf = gpd.read_file(shapefile_input)\n",
        "\n",
        "# Reproject shapefile to match the raster CRS if necessary\n",
        "if input_gdf.crs != bbox_gdf.crs:\n",
        "    input_gdf = input_gdf.to_crs(bbox_gdf.crs)\n",
        "\n",
        "# Clip the shapefile using the bounding box\n",
        "cropped_gdf = gpd.clip(input_gdf, bbox_gdf)\n",
        "\n",
        "# Save the clipped shapefile\n",
        "cropped_gdf.to_file(shapefile_output)\n",
        "print(\"Number of irrigation zones detected: \"+str(len(cropped_gdf)))\n",
        "shapefile_output\n",
        "\n"
      ]
    }
  ]
}